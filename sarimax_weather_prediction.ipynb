{
  "nbformat": 4,
  "nbformat_minor": 0,
  "metadata": {
    "colab": {
      "name": "sarimaxweatherprediction",
      "provenance": [],
      "collapsed_sections": []
    },
    "kernelspec": {
      "name": "python3",
      "display_name": "Python 3"
    },
    "language_info": {
      "name": "python"
    }
  },
  "cells": [
    {
      "cell_type": "code",
      "metadata": {
        "id": "ZRVjNmW3Bqo5"
      },
      "source": [
        "import numpy as np\n",
        "import pandas as pd\n",
        "\n",
        "# Import matplotlib, seaborn for visualization\n",
        "import matplotlib.pyplot as plt\n",
        "import seaborn as sns\n",
        "import warnings\n",
        "warnings.simplefilter(action='ignore', category=FutureWarning)\n",
        "#weather_data[\"TIMESTAMP\"] = pd.to_datetime(weather_data[\"TIMESTAMP\"], format='%d-%m-%Y').dt.strftime('%Y-%m-%d')"
      ],
      "execution_count": null,
      "outputs": []
    },
    {
      "cell_type": "code",
      "metadata": {
        "id": "es87jkiooqLf"
      },
      "source": [
        "btnt=pd.read_csv('new.csv',parse_dates=['TIMESTAMP']\n",
        "                     , infer_datetime_format=True)"
      ],
      "execution_count": null,
      "outputs": []
    },
    {
      "cell_type": "code",
      "metadata": {
        "id": "lxZAzF4DqWmH"
      },
      "source": [
        "from sklearn.impute import KNNImputer\n",
        "imputer = KNNImputer(n_neighbors=5)\n",
        "#a=weather_data['TIMESTAMP']\n",
        "btnt.iloc[:,1:] = imputer.fit_transform(btnt.iloc[:,1:])"
      ],
      "execution_count": null,
      "outputs": []
    },
    {
      "cell_type": "code",
      "metadata": {
        "id": "fFSh6aN_B2fd"
      },
      "source": [
        "#additive decomposition\n",
        "from statsmodels.tsa.seasonal import seasonal_decompose\n",
        "\n",
        "result_add = seasonal_decompose(btnt.WindSpeed_ms_Max, model='additive', extrapolate_trend='freq', freq=365)\n",
        "\n",
        "plt.rcParams.update({'figure.figsize': (10,10)})\n",
        "result_add.plot().suptitle('Additive Decomposition', fontsize=22)\n",
        "plt.show()"
      ],
      "execution_count": null,
      "outputs": []
    },
    {
      "cell_type": "code",
      "metadata": {
        "id": "BMeN9OyvB5Zx"
      },
      "source": [
        "#shifting\n",
        "predicted_df = btnt[\"WindSpeed_ms_Max\"].to_frame().shift(1).rename(columns = {\"WindSpeed_ms_Max\": \"WindSpeed_ms_Max_pred\" })\n",
        "actual_df = btnt[\"WindSpeed_ms_Max\"].to_frame().rename(columns = {\"WindSpeed_ms_Max\": \"WindSpeed_ms_Maxactual\" })\n",
        "one_step_df = pd.concat([actual_df,predicted_df],axis=1)\n",
        "one_step_df = one_step_df[1:]\n",
        "one_step_df.head(10)"
      ],
      "execution_count": null,
      "outputs": []
    },
    {
      "cell_type": "code",
      "metadata": {
        "id": "T5EpFAnHCC2b"
      },
      "source": [
        "import itertools\n",
        "p = d = q = range(0, 2)\n",
        "pdq = list(itertools.product(p, d, q))\n",
        "seasonal_pdq = [(x[0], x[1], x[2], 12) for x in list(itertools.product(p, d, q))]"
      ],
      "execution_count": null,
      "outputs": []
    },
    {
      "cell_type": "code",
      "metadata": {
        "id": "3JS-ifGQCFYm"
      },
      "source": [
        "import warnings\n",
        "warnings.filterwarnings(\"ignore\")\n",
        "\n",
        "for param in pdq:\n",
        "    for param_seasonal in seasonal_pdq:\n",
        "        try:\n",
        "            mod = sm.tsa.statespace.SARIMAX(one_step_df.AmbTemp_C_Avgactual,\n",
        "                                            order=param,\n",
        "                                            seasonal_order=param_seasonal,\n",
        "                                            enforce_stationarity=False,\n",
        "                                            enforce_invertibility=False)\n",
        "\n",
        "            results = mod.fit()\n",
        "\n",
        "            print('SARIMA{}x{}12 - AIC:{}'.format(param, param_seasonal, results.aic))\n",
        "        except:\n",
        "            continue"
      ],
      "execution_count": null,
      "outputs": []
    },
    {
      "cell_type": "code",
      "metadata": {
        "id": "dwYbuT6UCHjp"
      },
      "source": [
        "import statsmodels.api as sm\n",
        "mod = sm.tsa.statespace.SARIMAX(one_step_df.WindSpeed_ms_Maxactual,\n",
        "                                order=(1, 1, 0),\n",
        "                                seasonal_order=(1, 1, 0, 12),\n",
        "                                enforce_stationarity=False,\n",
        "                                enforce_invertibility=False)\n",
        "results = mod.fit()"
      ],
      "execution_count": null,
      "outputs": []
    },
    {
      "cell_type": "code",
      "metadata": {
        "id": "nAVC9qsBLy4r"
      },
      "source": [
        "results.plot_diagnostics(figsize=(15, 12))\n",
        "plt.show()"
      ],
      "execution_count": null,
      "outputs": []
    },
    {
      "cell_type": "code",
      "metadata": {
        "id": "_Ryyuv7eM2Gm"
      },
      "source": [
        "\n",
        "pred = results.predict(start=600,end=822)[1:].rename('data sarimax (1,1,0) forecast')\n",
        "#pred_ci = pred.conf_int()"
      ],
      "execution_count": null,
      "outputs": []
    },
    {
      "cell_type": "code",
      "metadata": {
        "id": "u0mYh1VjwFjm"
      },
      "source": [
        "ax=one_step_df.WindSpeed_ms_Maxactual.plot(figsize=(12,8),legend=True,label='Actual max wind speed output')\n",
        "pred.plot(legend=True)\n",
        "ax.set_xlabel('Number of days')\n",
        "ax.set_ylabel('Max wind speed(m/s)')"
      ],
      "execution_count": null,
      "outputs": []
    }
  ]
}