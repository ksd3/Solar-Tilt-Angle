{
 "cells": [
  {
   "cell_type": "code",
   "execution_count": null,
   "metadata": {
    "id": "QF_QYIij2Kig"
   },
   "outputs": [],
   "source": [
    "import pandas as pd\n",
    "df=pd.read_csv('oneminuteCanopy2015FULL.csv')\n",
    "df2=pd.read_csv('oneminuteCanopy2016FULL.csv')\n",
    "df3=pd.read_csv('oneminuteCanopy2017FULL.csv')\n",
    "df4=pd.read_csv('oneminuteCanopy2018FULL.csv')"
   ]
  },
  {
   "cell_type": "code",
   "execution_count": null,
   "metadata": {},
   "outputs": [],
   "source": [
    "vd=pd.concat([df,df2,df3,df4],axis=0)"
   ]
  },
  {
   "cell_type": "code",
   "execution_count": null,
   "metadata": {
    "scrolled": true
   },
   "outputs": [],
   "source": [
    "vd.pop('filename')"
   ]
  },
  {
   "cell_type": "code",
   "execution_count": null,
   "metadata": {},
   "outputs": [],
   "source": [
    "df=vd"
   ]
  },
  {
   "cell_type": "code",
   "execution_count": null,
   "metadata": {},
   "outputs": [],
   "source": [
    "df.replace({'-05:00': ' '}, regex=True)"
   ]
  },
  {
   "cell_type": "code",
   "execution_count": null,
   "metadata": {},
   "outputs": [],
   "source": [
    "df2=df[['InvFreq_Avg',\n",
    "       'InvPAC_kW_Avg', 'InvEtot_kWh_Max', 'InvVPVin_Avg', 'InvPDC_kW_Avg',\n",
    "       'InvOpStatus_Avg', 'InvMainFault_Max', 'InvDriveFault_Max',\n",
    "       'InvVoltageFault_Max', 'InvGridFault_Max', 'InvTempFault_Max',\n",
    "       'InvSystemFault_Max', 'InvSystemWarn_Max', 'InvPVMStatus_Max',\n",
    "       'SEWSAmbientTemp_C_Avg', 'SEWSModuleTemp_C_Avg', 'SEWSPOAIrrad_Wm2_Avg',\n",
    "       'PwrMtrIa_Avg', 'PwrMtrIb_Avg', 'PwrMtrIc_Avg', 'PwrMtrFreq_Avg',\n",
    "       'PwrMtrFreqMin_Min', 'PwrMtrFreqMax_Max', 'PwrMtrPhaseRev_Avg',\n",
    "       'PwrMtrVa_Avg', 'PwrMtrVb_Avg', 'PwrMtrVc_Avg', 'PwrMtrP_kW_Avg',\n",
    "       'PwrMtrP_kVAR_Avg', 'PwrMtrP_kVA_Avg', 'PwrMtrEdel_kWh_Max',\n",
    "       'PwrMtrErec_kWh_Max', 'PwrMtrEdel_kVARh_Max', 'PwrMtrErec_kVARh_Max',\n",
    "       'PwrMtrPF_Avg', 'PwrMtrVaTHDMax_Max', 'PwrMtrVbTHDMax_Max',\n",
    "       'PwrMtrVcTHDMax_Max']].copy()"
   ]
  },
  {
   "cell_type": "code",
   "execution_count": null,
   "metadata": {},
   "outputs": [],
   "source": [
    "df.columns"
   ]
  },
  {
   "cell_type": "code",
   "execution_count": null,
   "metadata": {},
   "outputs": [],
   "source": [
    "df = df.drop(['InvFreq_Avg',\n",
    "       'InvPAC_kW_Avg', 'InvEtot_kWh_Max', 'InvVPVin_Avg', 'InvPDC_kW_Avg',\n",
    "       'InvOpStatus_Avg', 'InvMainFault_Max', 'InvDriveFault_Max',\n",
    "       'InvVoltageFault_Max', 'InvGridFault_Max', 'InvTempFault_Max',\n",
    "       'InvSystemFault_Max', 'InvSystemWarn_Max', 'InvPVMStatus_Max',\n",
    "       'SEWSAmbientTemp_C_Avg', 'SEWSModuleTemp_C_Avg', 'SEWSPOAIrrad_Wm2_Avg',\n",
    "       'PwrMtrIa_Avg', 'PwrMtrIb_Avg', 'PwrMtrIc_Avg', 'PwrMtrFreq_Avg',\n",
    "       'PwrMtrFreqMin_Min', 'PwrMtrFreqMax_Max', 'PwrMtrPhaseRev_Avg',\n",
    "       'PwrMtrVa_Avg', 'PwrMtrVb_Avg', 'PwrMtrVc_Avg', 'PwrMtrP_kW_Avg',\n",
    "       'PwrMtrP_kVAR_Avg', 'PwrMtrP_kVA_Avg', 'PwrMtrEdel_kWh_Max',\n",
    "       'PwrMtrErec_kWh_Max', 'PwrMtrEdel_kVARh_Max', 'PwrMtrErec_kVARh_Max',\n",
    "       'PwrMtrPF_Avg', 'PwrMtrVaTHDMax_Max', 'PwrMtrVbTHDMax_Max',\n",
    "       'PwrMtrVcTHDMax_Max'], axis=1)"
   ]
  },
  {
   "cell_type": "code",
   "execution_count": null,
   "metadata": {
    "id": "kbta2XXmIS9W"
   },
   "outputs": [],
   "source": [
    "\n",
    "df.pop('ShuntCurrent_A_Avg_1')\n",
    "df.pop('ShuntCurrent_A_Avg_2')\n",
    "df.pop('ShuntCurrent_A_Avg_3')\n",
    "df.pop('ShuntCurrent_A_Avg_4')\n",
    "df.pop('ShuntCurrent_A_Avg_5')\n",
    "df.pop('ShuntCurrent_A_Avg_6')\n",
    "df.pop('ShuntCurrent_A_Avg_7')\n",
    "df.pop('WindDirStdDev_deg')\n",
    "df.pop('WindSpeed_ms_Max')\n",
    "df.pop('WindRef_V_Min')\n",
    "df.pop('WindHeatStateID_Avg')\n",
    "df.pop('WindValid_Avg')\n",
    "df.pop('Battery_V_Min')\n",
    "df.pop('Battery_A_Avg')\n",
    "df.pop('Load_A_Avg')\n",
    "df.pop('ChgState_Min')\n",
    "df.pop('ChgSource_Min')\n",
    "df.pop('CkBatt_Max')\n",
    "df.pop('Qloss_Ah_Max')\n"
   ]
  },
  {
   "cell_type": "code",
   "execution_count": null,
   "metadata": {},
   "outputs": [],
   "source": [
    "df.replace({'-05:00': ' '}, regex=True)"
   ]
  },
  {
   "cell_type": "code",
   "execution_count": null,
   "metadata": {
    "id": "7Y7K1fEo2N-k"
   },
   "outputs": [],
   "source": [
    "date_time= pd.to_datetime(df['TIMESTAMP'],format='%Y-%m-%d %H:%M')"
   ]
  },
  {
   "cell_type": "code",
   "execution_count": null,
   "metadata": {
    "id": "bPiL-uQV2Pst"
   },
   "outputs": [],
   "source": [
    "import datetime\n",
    "timestamp_s = date_time.map(datetime.datetime.timestamp)"
   ]
  },
  {
   "cell_type": "code",
   "execution_count": null,
   "metadata": {
    "id": "O1bXsBiQ3pab"
   },
   "outputs": [],
   "source": [
    "import numpy as np"
   ]
  },
  {
   "cell_type": "code",
   "execution_count": null,
   "metadata": {
    "id": "7vvtg15b2TpS"
   },
   "outputs": [],
   "source": [
    "day = 24*60*60\n",
    "year = (365.2425)*day\n",
    "\n",
    "df['Day sin'] = np.sin(timestamp_s * (2 * np.pi / day))\n",
    "df['Day cos'] = np.cos(timestamp_s * (2 * np.pi / day))\n",
    "df['Year sin'] = np.sin(timestamp_s * (2 * np.pi / year))\n",
    "df['Year cos'] = np.cos(timestamp_s * (2 * np.pi / year))\n"
   ]
  },
  {
   "cell_type": "code",
   "execution_count": null,
   "metadata": {
    "id": "2PoS5DOl42SA"
   },
   "outputs": [],
   "source": [
    "threshold = 0.05 \n",
    "value_counts = df['Day sin'].value_counts() # Specific column \n",
    "to_remove = value_counts[ abs(value_counts) <= threshold].index\n",
    "df['Day sin'].replace(to_remove, 0, inplace=True)"
   ]
  },
  {
   "cell_type": "code",
   "execution_count": null,
   "metadata": {
    "id": "nYqyyH4C3V7M"
   },
   "outputs": [],
   "source": [
    "import matplotlib.pyplot as plt"
   ]
  },
  {
   "cell_type": "code",
   "execution_count": null,
   "metadata": {
    "colab": {
     "base_uri": "https://localhost:8080/",
     "height": 312
    },
    "id": "KpnQfep_3XR9",
    "outputId": "8ef96314-6204-48be-8210-2826dd0861f2"
   },
   "outputs": [],
   "source": [
    "plt.plot(np.array(df['Day sin'])[:1440])\n",
    "plt.plot(np.array(df['Day cos'])[:1440])\n",
    "plt.xlabel('Time [min]')\n",
    "plt.title('Time of day signal')\n",
    "df.pop('TIMESTAMP')"
   ]
  },
  {
   "cell_type": "code",
   "execution_count": null,
   "metadata": {
    "id": "AbOoLZD65FGk"
   },
   "outputs": [],
   "source": [
    "wv = df.pop('WindSpeedAve_ms')\n",
    "wd_rad = df.pop('WindDirAve_deg')*np.pi / 180\n",
    "df['Wx'] = wv*np.cos(wd_rad)\n",
    "df['Wy'] = wv*np.sin(wd_rad)"
   ]
  },
  {
   "cell_type": "code",
   "execution_count": null,
   "metadata": {},
   "outputs": [],
   "source": [
    "new_col_RTD = ((df['RTD_C_Avg_1']+df['RTD_C_Avg_2']+df['RTD_C_Avg_3']+df['RTD_C_Avg_4']+df['RTD_C_Avg_5']+df['RTD_C_Avg_6']+df['RTD_C_Avg_7']+df['RTD_C_Avg_8']+df['RTD_C_Avg_9']+df['RTD_C_Avg_10'])/10).tolist()\n",
    "df.insert(loc=len(df.columns), column='RTD_avg', value=new_col_RTD)"
   ]
  },
  {
   "cell_type": "code",
   "execution_count": null,
   "metadata": {},
   "outputs": [],
   "source": [
    "df['Angle_degrees']=5"
   ]
  },
  {
   "cell_type": "code",
   "execution_count": null,
   "metadata": {},
   "outputs": [],
   "source": [
    "new_col_P = ((df['Pyra1_Wm2_Avg']+df['Pyra2_Wm2_Avg']+df['Pyra3_Wm2_Avg'])/3).tolist()\n",
    "df.insert(loc=len(df.columns), column='Pyra_Wm2_Avg', value=new_col_P)"
   ]
  },
  {
   "cell_type": "code",
   "execution_count": null,
   "metadata": {
    "id": "GeMvrnyvGpQT"
   },
   "outputs": [],
   "source": [
    "#new_col = (df.iloc[:,20]+df.iloc[:,22]+df.iloc[:,21]+df.iloc[:,23]).tolist()\n",
    "new_col = (df['ShuntPDC_kW_Avg_1']+df['ShuntPDC_kW_Avg_2']+df['ShuntPDC_kW_Avg_3']+df['ShuntPDC_kW_Avg_4']+df['ShuntPDC_kW_Avg_5']+df['ShuntPDC_kW_Avg_6']+df['ShuntPDC_kW_Avg_7']).tolist()\n",
    "df.insert(loc=len(df.columns), column='power generated', value=new_col)"
   ]
  },
  {
   "cell_type": "code",
   "execution_count": null,
   "metadata": {},
   "outputs": [],
   "source": [
    "c=df['ShuntEtot_kWh_Max_1']+ df['ShuntEtot_kWh_Max_2']+df['ShuntEtot_kWh_Max_3']+df['ShuntEtot_kWh_Max_4']+df['ShuntEtot_kWh_Max_5']+df['ShuntEtot_kWh_Max_6']+df['ShuntEtot_kWh_Max_7']\n",
    "df.insert(loc=len(df.columns), column='energy generated', value=c)"
   ]
  },
  {
   "cell_type": "code",
   "execution_count": null,
   "metadata": {
    "scrolled": true
   },
   "outputs": [],
   "source": [
    "df3=df[['ShuntEtot_kWh_Max_1', 'ShuntEtot_kWh_Max_2', 'ShuntEtot_kWh_Max_3',\n",
    "       'ShuntEtot_kWh_Max_4', 'ShuntEtot_kWh_Max_5', 'ShuntEtot_kWh_Max_6',\n",
    "       'ShuntEtot_kWh_Max_7']].copy()\n",
    "df.drop(['ShuntEtot_kWh_Max_1', 'ShuntEtot_kWh_Max_2', 'ShuntEtot_kWh_Max_3',\n",
    "       'ShuntEtot_kWh_Max_4', 'ShuntEtot_kWh_Max_5', 'ShuntEtot_kWh_Max_6',\n",
    "       'ShuntEtot_kWh_Max_7'],axis=1)"
   ]
  },
  {
   "cell_type": "code",
   "execution_count": null,
   "metadata": {},
   "outputs": [],
   "source": [
    "df.pop('ShuntEtot_kWh_Max_1')\n",
    "df.pop('ShuntEtot_kWh_Max_2')\n",
    "df.pop('ShuntEtot_kWh_Max_3')\n",
    "df.pop('ShuntEtot_kWh_Max_4')\n",
    "df.pop('ShuntEtot_kWh_Max_5')\n",
    "df.pop('ShuntEtot_kWh_Max_6')\n",
    "df.pop('ShuntEtot_kWh_Max_7')\n"
   ]
  },
  {
   "cell_type": "code",
   "execution_count": null,
   "metadata": {
    "id": "zE39q9ROHsdZ"
   },
   "outputs": [],
   "source": [
    "df.pop('ShuntPDC_kW_Avg_1')\n",
    "df.pop('ShuntPDC_kW_Avg_2')\n",
    "df.pop('ShuntPDC_kW_Avg_3')\n",
    "df.pop('ShuntPDC_kW_Avg_4')\n",
    "df.pop('ShuntPDC_kW_Avg_5')\n",
    "df.pop('ShuntPDC_kW_Avg_6')\n",
    "df.pop('ShuntPDC_kW_Avg_7')\n",
    "df.pop('RTD_C_Avg_1')\n",
    "df.pop('RTD_C_Avg_2')\n",
    "df.pop('RTD_C_Avg_3')\n",
    "df.pop('RTD_C_Avg_4')\n",
    "df.pop('RTD_C_Avg_5')\n",
    "df.pop('RTD_C_Avg_6')\n",
    "df.pop('RTD_C_Avg_7')\n",
    "df.pop('RTD_C_Avg_8')\n",
    "df.pop('RTD_C_Avg_9')\n",
    "df.pop('RTD_C_Avg_10')\n",
    "df.pop('Pyra3_Wm2_Avg')\n",
    "df.pop('Pyra1_Wm2_Avg')\n",
    "df.pop('Pyra2_Wm2_Avg')\n",
    "\n"
   ]
  },
  {
   "cell_type": "markdown",
   "metadata": {
    "id": "br4SAo4-H_1M"
   },
   "source": [
    "Impute data"
   ]
  },
  {
   "cell_type": "code",
   "execution_count": null,
   "metadata": {},
   "outputs": [],
   "source": [
    "a=df['RefCell1_Wm2_Avg']\n",
    "df['RefCell1_Wm2_Avg']=a+df['RefCell2_Wm2_Avg']"
   ]
  },
  {
   "cell_type": "code",
   "execution_count": null,
   "metadata": {},
   "outputs": [],
   "source": [
    "df.pop('RefCell2_Wm2_Avg')"
   ]
  },
  {
   "cell_type": "code",
   "execution_count": null,
   "metadata": {},
   "outputs": [],
   "source": [
    "idf=df"
   ]
  },
  {
   "cell_type": "code",
   "execution_count": null,
   "metadata": {
    "id": "lpKmiaEtGYQ9"
   },
   "outputs": [],
   "source": [
    "from sklearn.impute import SimpleImputer\n",
    "imputer = SimpleImputer( strategy = 'mean')\n",
    "imputer = imputer.fit(idf.iloc[:, :])\n",
    "idf.iloc[:, :] = imputer.transform(idf.iloc[:, :])\n",
    "#df=pd.DataFrame(imp.fit_transform(df.iloc[:,:].values.reshape(-1,1)))"
   ]
  },
  {
   "cell_type": "markdown",
   "metadata": {
    "id": "0gvsd1-ZHh9T"
   },
   "source": [
    "Save to csv\n"
   ]
  },
  {
   "cell_type": "code",
   "execution_count": null,
   "metadata": {
    "id": "4dd_nC5OHbKu"
   },
   "outputs": [],
   "source": [
    "df.to_csv('canopyfinal.csv',index=False)"
   ]
  }
 ],
 "metadata": {
  "colab": {
   "name": "data/time modification",
   "provenance": []
  },
  "kernelspec": {
   "display_name": "Python 3",
   "language": "python",
   "name": "python3"
  },
  "language_info": {
   "codemirror_mode": {
    "name": "ipython",
    "version": 3
   },
   "file_extension": ".py",
   "mimetype": "text/x-python",
   "name": "python",
   "nbconvert_exporter": "python",
   "pygments_lexer": "ipython3",
   "version": "3.6.6"
  }
 },
 "nbformat": 4,
 "nbformat_minor": 1
}
