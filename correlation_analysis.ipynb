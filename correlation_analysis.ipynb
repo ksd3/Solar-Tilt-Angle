{
 "cells": [
  {
   "cell_type": "code",
   "execution_count": null,
   "metadata": {
    "colab": {
     "base_uri": "https://localhost:8080/",
     "height": 491
    },
    "id": "mF656QSGFz83",
    "outputId": "b7c79367-97d1-41e8-9dc9-b2dca51e07b3"
   },
   "outputs": [],
   "source": [
    "from numpy.random import seed\n",
    "import pandas as pd\n",
    "df=pd.read_csv('file.csv')\n",
    "df.head()"
   ]
  },
  {
   "cell_type": "code",
   "execution_count": null,
   "metadata": {
    "colab": {
     "base_uri": "https://localhost:8080/"
    },
    "id": "rGU7s_bDHNL9",
    "outputId": "c67f5245-52a2-48b3-c282-b714bbd03eea"
   },
   "outputs": [],
   "source": [
    "from scipy.stats import spearmanr\n",
    "for i in range(1,len(df.columns)):\n",
    "  corr, _ = spearmanr(df.iloc[:,i], df.iloc[:,-1])\n",
    "  colname = df.columns[i]\n",
    "  print('Spearmanr correlation: %.3f' % corr +'  '+'column name:' +str(names[i]))\n"
   ]
  }
 ],
 "metadata": {
  "colab": {
   "collapsed_sections": [],
   "name": "correlation analysis",
   "provenance": []
  },
  "kernelspec": {
   "display_name": "Python 3",
   "language": "python",
   "name": "python3"
  },
  "language_info": {
   "codemirror_mode": {
    "name": "ipython",
    "version": 3
   },
   "file_extension": ".py",
   "mimetype": "text/x-python",
   "name": "python",
   "nbconvert_exporter": "python",
   "pygments_lexer": "ipython3",
   "version": "3.6.6"
  }
 },
 "nbformat": 4,
 "nbformat_minor": 1
}
