{
 "cells": [
  {
   "cell_type": "code",
   "execution_count": null,
   "metadata": {
    "id": "cQ32jggpKizo"
   },
   "outputs": [],
   "source": [
    "from google.colab import drive\n",
    "drive.mount('/content/drive')"
   ]
  },
  {
   "cell_type": "code",
   "execution_count": null,
   "metadata": {
    "id": "KSYs-q_W9lEj"
   },
   "outputs": [],
   "source": [
    "\n",
    "import numpy as np\n",
    "\n",
    "from numpy import loadtxt\n",
    "import pandas as pd\n",
    "\n",
    "from sklearn.model_selection import train_test_split\n",
    "from sklearn.metrics import accuracy_score\n",
    "from numpy import mean\n",
    "from numpy import std\n",
    "from sklearn.datasets import make_regression\n",
    "from sklearn.ensemble import GradientBoostingRegressor\n",
    "from sklearn.model_selection import cross_val_score\n",
    "from sklearn.model_selection import RepeatedKFold\n",
    "from matplotlib import pyplot\n",
    "from sklearn import datasets, ensemble\n"
   ]
  },
  {
   "cell_type": "code",
   "execution_count": null,
   "metadata": {
    "colab": {
     "background_save": true,
     "base_uri": "https://localhost:8080/"
    },
    "id": "46KnteKYB7gP",
    "outputId": "cb9dec5f-f57f-44be-e29e-b0983762af5c"
   },
   "outputs": [],
   "source": [
    "import pandas as pd\n",
    "vc1 = pd.read_csv('/content/drive/MyDrive/PersonalDataset/f final data/m2015.csv', error_bad_lines=False)\n",
    "vc2 = pd.read_csv('/content/drive/MyDrive/PersonalDataset/f final data/m2016.csv', error_bad_lines=False)\n",
    "vc3 = pd.read_csv('/content/drive/MyDrive/PersonalDataset/f final data/m2017.csv', error_bad_lines=False)\n",
    "df=pd.concat([vc1,vc2,vc3],axis=0)\n",
    "df.pop('WindSpeedAve_ms')\n",
    "df.pop('WindRef_V_Min')"
   ]
  },
  {
   "cell_type": "code",
   "execution_count": null,
   "metadata": {
    "colab": {
     "background_save": true
    },
    "id": "Pjk4Do6mLGV6"
   },
   "outputs": [],
   "source": [
    "from sklearn import preprocessing\n",
    "from numpy import absolute\n",
    "from pandas import read_csv\n",
    "from sklearn.model_selection import cross_val_score\n",
    "from sklearn.model_selection import KFold"
   ]
  },
  {
   "cell_type": "code",
   "execution_count": null,
   "metadata": {
    "id": "RKdJvAgWR6Zj"
   },
   "outputs": [],
   "source": [
    "X=df.iloc[:,:-1]\n",
    "Y=df.iloc[:,-1]\n",
    "X.values\n",
    "Y.values\n",
    "X_train, X_test, y_train, y_test = train_test_split(X, Y, test_size=0.2,shuffle=False)"
   ]
  },
  {
   "cell_type": "code",
   "execution_count": null,
   "metadata": {
    "id": "YmLVp0NcTV68"
   },
   "outputs": [],
   "source": [
    "\n",
    "params = {'n_estimators': 500,\n",
    "          'max_depth': 4,\n",
    "          'min_samples_split': 5,\n",
    "          'learning_rate': 0.01,\n",
    "          'loss': 'ls'}"
   ]
  },
  {
   "cell_type": "code",
   "execution_count": null,
   "metadata": {
    "colab": {
     "base_uri": "https://localhost:8080/",
     "height": 391
    },
    "id": "vJDGQ3Ek_ulT",
    "outputId": "09d10295-5323-4ec1-debb-1bb21eac7071"
   },
   "outputs": [],
   "source": [
    "model =ensemble.GradientBoostingRegressor(**params)\n",
    "cv = RepeatedKFold(n_splits=10, n_repeats=3)\n",
    "model = GradientBoostingRegressor(verbose=True)\n",
    "n_scores = cross_val_score(model, X, Y, scoring='neg_root_mean_squared_error', cv=cv, n_jobs=-1, error_score='raise')\n",
    "history=model.fit(X_train, y_train)\n",
    "yhat=model.predict(X_test)\n"
   ]
  },
  {
   "cell_type": "code",
   "execution_count": null,
   "metadata": {
    "colab": {
     "base_uri": "https://localhost:8080/"
    },
    "id": "TjWlAXW0SuZ6",
    "outputId": "dfe07897-4bbb-4bec-a2e6-99ee5661c162"
   },
   "outputs": [],
   "source": [
    "from sklearn.metrics import mean_squared_error\n",
    "mse = mean_squared_error(y_test,yhat,squared=False)\n",
    "print(\"The mean square error (MSE) on test set: {:.4f}\".format(mse))"
   ]
  },
  {
   "cell_type": "code",
   "execution_count": null,
   "metadata": {
    "colab": {
     "base_uri": "https://localhost:8080/"
    },
    "id": "WiFd7eH15aDQ",
    "outputId": "9a95030d-14f6-4822-89f2-f3b1bdaefa31"
   },
   "outputs": [],
   "source": [
    "from sklearn.metrics import mean_squared_error\n",
    "yhat=model.predict(X_train)\n",
    "mse2 = mean_squared_error(y_train,yhat,squared=False)\n",
    "print(\"The mean square error (MSE) on train set: {:.4f}\".format(mse2))"
   ]
  },
  {
   "cell_type": "markdown",
   "metadata": {
    "id": "_0p9RoJG2waq"
   },
   "source": [
    "Predicted generation"
   ]
  },
  {
   "cell_type": "code",
   "execution_count": null,
   "metadata": {
    "colab": {
     "base_uri": "https://localhost:8080/"
    },
    "id": "QD-txADpTN4L",
    "outputId": "e324af08-3141-4bc4-d0ea-6fa8a4e76916"
   },
   "outputs": [],
   "source": [
    "a=np.sum(yhat, dtype = np.float32)\n",
    "b=np.sum(y_test)\n",
    "print(abs(b-a)/b)"
   ]
  },
  {
   "cell_type": "code",
   "execution_count": null,
   "metadata": {
    "colab": {
     "base_uri": "https://localhost:8080/"
    },
    "id": "w9COd3tou5e4",
    "outputId": "6cec24c6-60e1-4438-9705-31b999ceaaed"
   },
   "outputs": [],
   "source": [
    "print(model.score(X_train,y_train))"
   ]
  },
  {
   "cell_type": "code",
   "execution_count": null,
   "metadata": {
    "colab": {
     "base_uri": "https://localhost:8080/",
     "height": 265
    },
    "id": "XzRCS4TPm58I",
    "outputId": "c4986b34-0e00-43bf-aea7-f7588da551da"
   },
   "outputs": [],
   "source": [
    "import matplotlib.pyplot as plt\n",
    "x_ax = range(len(y_test))\n",
    "plt.scatter(x_ax[:1440], y_test[-1441:-1], s=5, color=\"blue\", label=\"original\")\n",
    "plt.plot(x_ax[:1440], yhat[-1441:-1], lw=0.8, color=\"red\", label=\"predicted\")\n",
    "plt.legend()\n",
    "plt.show()"
   ]
  },
  {
   "cell_type": "code",
   "execution_count": null,
   "metadata": {
    "colab": {
     "base_uri": "https://localhost:8080/"
    },
    "id": "Un4Xuv_NVTXk",
    "outputId": "b21ee071-6b68-4c52-9570-35397ece6801"
   },
   "outputs": [],
   "source": [
    "\n",
    "for i in range(0,90):\n",
    "    X_test.values[:,-2]=i\n",
    "    y_pred = model.predict(X_test)\n",
    "    sum=np.sum(y_pred, dtype = np.float32)\n",
    "    \n",
    "    if sum>a:\n",
    "        a=sum\n",
    "        angle=i\n",
    "        print(a)\n",
    "        print(i)\n",
    "    \n",
    "      "
   ]
  },
  {
   "cell_type": "code",
   "execution_count": null,
   "metadata": {
    "colab": {
     "base_uri": "https://localhost:8080/"
    },
    "id": "TelM7eV0YIzU",
    "outputId": "d57ba37e-ea4b-468c-9168-a08c48423812"
   },
   "outputs": [],
   "source": [
    "\n",
    "print(angle)"
   ]
  },
  {
   "cell_type": "code",
   "execution_count": null,
   "metadata": {
    "id": "D5zSMnOeZSPr"
   },
   "outputs": [],
   "source": [
    "import itertools\n",
    "def seq(start, end, step):\n",
    "    if step == 0:\n",
    "        raise ValueError(\"step must not be 0\")\n",
    "    sample_count = int(abs(end - start) / step)\n",
    "    return itertools.islice(itertools.count(start, step), sample_count)"
   ]
  },
  {
   "cell_type": "code",
   "execution_count": null,
   "metadata": {
    "id": "PaDBBpR5ZSFM"
   },
   "outputs": [],
   "source": [
    "\n",
    "for j in seq(angle-1,angle+1,0.1):\n",
    "    X_test.values[:,-2]=j\n",
    "    y_pred = model.predict(X_test)\n",
    "    sum=np.sum(y_pred, dtype = np.float32)\n",
    "    \n",
    "    if sum>a:\n",
    "        a=sum\n",
    "        print(a)\n",
    "        print(i)\n",
    "    "
   ]
  },
  {
   "cell_type": "code",
   "execution_count": null,
   "metadata": {
    "colab": {
     "base_uri": "https://localhost:8080/",
     "height": 281
    },
    "id": "WuM6YPw0WtUn",
    "outputId": "08af4919-b563-4b50-c767-e6f6458cc5c1"
   },
   "outputs": [],
   "source": [
    "fig, ax = pyplot.subplots()\n",
    "ax.plot(range(0, 1440), y_pred[-1441:-1], label='Predicted')\n",
    "ax.plot(range(0, 1440), y_test[-1441:-1], label='Actual')\n",
    "ax.legend()\n",
    "pyplot.ylabel('Power generation')\n",
    "pyplot.title('Power generation across a day')\n",
    "pyplot.show()\n"
   ]
  },
  {
   "cell_type": "markdown",
   "metadata": {
    "id": "IMpzaLQt0FG5"
   },
   "source": [
    "New addition\n",
    "\n"
   ]
  },
  {
   "cell_type": "code",
   "execution_count": null,
   "metadata": {
    "colab": {
     "base_uri": "https://localhost:8080/"
    },
    "id": "Cn_vHvvOB6sU",
    "outputId": "616f4d8b-6f80-4c7a-b237-7d6201de014f"
   },
   "outputs": [],
   "source": [
    "yhat=model.predict(X_test)\n",
    "print(len(yhat))"
   ]
  },
  {
   "cell_type": "code",
   "execution_count": null,
   "metadata": {
    "colab": {
     "base_uri": "https://localhost:8080/",
     "height": 281
    },
    "id": "ls5AoHSxz_6u",
    "outputId": "f58d2d33-0fde-4c4c-9d44-9c7a5d4ca6ba"
   },
   "outputs": [],
   "source": [
    "fig,ax=pyplot.subplots()\n",
    "ax.plot(range(0, 1440), yhat[-1441:-1], label='Predicted')\n",
    "ax.legend()\n",
    "\n",
    "pyplot.ylabel('Predicted power generation')\n",
    "pyplot.title('Predicted power generation across a day')\n",
    "pyplot.show()"
   ]
  },
  {
   "cell_type": "code",
   "execution_count": null,
   "metadata": {
    "colab": {
     "base_uri": "https://localhost:8080/"
    },
    "id": "GV9PbdgNCJQ6",
    "outputId": "7823d0ac-43a9-414b-db6d-ae90f119b409"
   },
   "outputs": [],
   "source": [
    "yhat"
   ]
  },
  {
   "cell_type": "code",
   "execution_count": null,
   "metadata": {
    "colab": {
     "base_uri": "https://localhost:8080/"
    },
    "id": "mm0BIo1L3uTb",
    "outputId": "c71e257a-6902-4b65-8ec3-d6399dd452ee"
   },
   "outputs": [],
   "source": [
    "df.isnull().any()  "
   ]
  },
  {
   "cell_type": "code",
   "execution_count": null,
   "metadata": {
    "colab": {
     "base_uri": "https://localhost:8080/"
    },
    "id": "cV7fQbuH8188",
    "outputId": "9402ab59-f277-4e7e-a5e9-ec6649362e38"
   },
   "outputs": [],
   "source": [
    "yhat"
   ]
  },
  {
   "cell_type": "code",
   "execution_count": null,
   "metadata": {
    "colab": {
     "base_uri": "https://localhost:8080/"
    },
    "id": "COdrpdUW9ECA",
    "outputId": "505e3915-fa7b-44b3-850e-d5f15f941ea2"
   },
   "outputs": [],
   "source": [
    "y_test"
   ]
  },
  {
   "cell_type": "code",
   "execution_count": null,
   "metadata": {
    "id": "KQLmbD9udPDf"
   },
   "outputs": [],
   "source": [
    "import pickle\n",
    "pickle.dump(model, open(\"pima.pickle.dat\", \"wb\"))"
   ]
  },
  {
   "cell_type": "code",
   "execution_count": null,
   "metadata": {
    "id": "tIBEsjLEFm39"
   },
   "outputs": [],
   "source": [
    "\n",
    "for j in seq(angle-1,angle+1,0.1):\n",
    "    X_test.values[:,-2]=j\n",
    "    y_pred = model.predict(X_test)\n",
    "    sum=np.sum(y_pred, dtype = np.float32)\n",
    "    \n",
    "    if sum>a:\n",
    "        a=sum\n",
    "        print(a)\n",
    "        print(i)\n",
    "    "
   ]
  }
 ],
 "metadata": {
  "accelerator": "GPU",
  "colab": {
   "collapsed_sections": [],
   "name": "Copy of gradient boost.ipynb",
   "provenance": []
  },
  "kernelspec": {
   "display_name": "Python 3",
   "language": "python",
   "name": "python3"
  },
  "language_info": {
   "codemirror_mode": {
    "name": "ipython",
    "version": 3
   },
   "file_extension": ".py",
   "mimetype": "text/x-python",
   "name": "python",
   "nbconvert_exporter": "python",
   "pygments_lexer": "ipython3",
   "version": "3.6.6"
  }
 },
 "nbformat": 4,
 "nbformat_minor": 1
}
