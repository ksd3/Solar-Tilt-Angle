{
 "cells": [
  {
   "cell_type": "code",
   "execution_count": null,
   "metadata": {
    "id": "QF_QYIij2Kig"
   },
   "outputs": [],
   "source": [
    "import pandas as pd\n",
    "df=pd.read_csv('oneminuteRoof2015FULL.csv')\n",
    "\n",
    "df2=pd.read_csv('oneminuteRoof2016FULL.csv')\n",
    "df3=pd.read_csv('oneminuteRoof2017FULL.csv')\n",
    "df4=pd.read_csv('oneminuteRoofFULL2018.csv')"
   ]
  },
  {
   "cell_type": "code",
   "execution_count": null,
   "metadata": {},
   "outputs": [],
   "source": [
    "vd=pd.concat([df,df2,df3,df4],axis=0)"
   ]
  },
  {
   "cell_type": "code",
   "execution_count": null,
   "metadata": {},
   "outputs": [],
   "source": [
    "df=vd"
   ]
  },
  {
   "cell_type": "code",
   "execution_count": null,
   "metadata": {},
   "outputs": [],
   "source": [
    "df.pop('InvVb_Avg')\n",
    "df.pop('InvVc_Avg')\n",
    "df.pop('InvVabcAvg_Avg')\n",
    "df.pop('InvVUnbal_Avg')\n",
    "df.pop('InvIUnbal_Avg')\n",
    "df.pop('InvPDC_kW_Avg')\n",
    "df.pop('InvPAC_kW_Avg')\n",
    "df.pop('InvVAR_kVAR_Avg')\n",
    "df.pop('InvVA_kVA_Avg')\n",
    "df.pop('InvPF_Avg')\n",
    "df.pop('InvGndImped_kOhm_Avg')\n",
    "df.pop('InvEtot_kWh_Max')\n",
    "df.pop('InvEtoday_kWh_Max')\n",
    "df.pop('InvEyesterday_kWh_Max')\n",
    "df.pop('InvFreq_Avg')\n",
    "df.pop('InvOpState_Avg')\n",
    "df.pop('InvTempInternalAir_C_Avg')\n",
    "df.pop('InvTempInverterAir_C_Avg')\n",
    "df.pop('InvTempHeatsink_C_Avg')\n",
    "df.pop('SEWSAmbientTemp_C_Avg')\n",
    "df.pop('SEWSModuleTemp_C_Avg')\n",
    "df.pop('SEWSPOAIrrad_Wm2_Avg')\n",
    "df.pop('PwrMtrIa_Avg')\n",
    "df.pop('PwrMtrIb_Avg')\n",
    "df.pop('PwrMtrIc_Avg')\n",
    "df.pop('PwrMtrFreq_Avg')\n",
    "df.pop('PwrMtrFreqMin_Min')\n",
    "df.pop('PwrMtrFreqMax_Max')\n",
    "df.pop('PwrMtrPhaseRev_Avg')\n",
    "df.pop('PwrMtrVa_Avg')\n",
    "df.pop('PwrMtrVb_Avg')"
   ]
  },
  {
   "cell_type": "code",
   "execution_count": null,
   "metadata": {
    "id": "kbta2XXmIS9W"
   },
   "outputs": [],
   "source": [
    "df.pop('RECORD')\n",
    "df.pop('CR1000Temp_C_Avg')\n",
    "df.pop('DoorOpen_Min')\n",
    "df.pop('InvVDVoltage_V_Avg')\n",
    "df.pop('GeneralFaults1_Max')\n",
    "df.pop('DPCBFaults_Max')\n",
    "df.pop('GeneralFaults2_Max')\n",
    "df.pop('HardwareFaults_Max')\n",
    "df.pop('InverterFaults_Max')\n",
    "df.pop('TemperatureFaults_Max')\n",
    "df.pop('Warnings_Max')\n",
    "df.pop('NumActiveFaults_Max')\n",
    "df.pop('InvVPVIn_Avg')\n",
    "df.pop('InvVDCin_Avg')\n",
    "df.pop('InvIDCin_Avg')\n",
    "df.pop('InvIGnd_Avg')\n",
    "df.pop('InvIa_Avg')\n",
    "df.pop('InvIb_Avg')\n",
    "df.pop('InvIc_Avg')\n",
    "df.pop('InvIabcAvg_Avg')\n",
    "df.pop('InvINeutral_Avg')\n",
    "df.pop('InvVa_Avg')\n",
    "df.pop('PwrMtrVc_Avg')\n",
    "df.pop('PwrMtrP_kW_Avg')\n",
    "df.pop('PwrMtrP_kVAR_Avg')\n",
    "df.pop('PwrMtrP_kVA_Avg')\n",
    "df.pop('PwrMtrEdel_kWh_Max')\n",
    "df.pop('PwrMtrErec_kWh_Max')\n",
    "df.pop('PwrMtrEdel_kVARh_Max')\n",
    "df.pop('PwrMtrErec_kVARh_Max')\n",
    "df.pop('PwrMtrPF_Avg')\n",
    "df.pop('PwrMtrVaTHDMax_Max')\n",
    "df.pop('PwrMtrVbTHDMax_Max')\n",
    "\n"
   ]
  },
  {
   "cell_type": "code",
   "execution_count": null,
   "metadata": {},
   "outputs": [],
   "source": [
    "df.pop('PwrMtrVcTHDMax_Max')\n",
    "df.pop('ShuntCurrent_A_Avg_1')\n",
    "df.pop('ShuntCurrent_A_Avg_2')\n",
    "df.pop('ShuntCurrent_A_Avg_3')\n",
    "df.pop('ShuntCurrent_A_Avg_4')\n",
    "df.pop('WindDirStdDev_deg')\n",
    "df.pop('WindSpeed_ms_Max')\n",
    "df.pop('WindRef_V_Min')\n",
    "df.pop('WindHeatStateID_Avg')\n",
    "df.pop('WindValid_Avg')\n",
    "df.pop('Battery_V_Min')\n",
    "df.pop('Battery_A_Avg')\n",
    "df.pop('Load_A_Avg')\n",
    "df.pop('ChgState_Min')\n",
    "df.pop('ChgSource_Min')\n",
    "df.pop('CkBatt_Max')\n",
    "df.pop('Qloss_Ah_Max')\n",
    "df.pop('TCTemps_C_Avg_1')\n",
    "df.pop('TCTemps_C_Avg_2')\n",
    "df.pop('TCTemps_C_Avg_3')\n",
    "df.pop('TCTemps_C_Avg_4')\n",
    "df.pop('TCTemps_C_Avg_5')\n",
    "df.pop('TCTemps_C_Avg_6')\n",
    "df.pop('TCTemps_C_Avg_7')\n",
    "df.pop('TCTemps_C_Avg_8')\n",
    "df.pop('TCTemps_C_Avg_9')\n",
    "df.pop('TCTemps_C_Avg_10')\n",
    "df.pop('TCTemps_C_Avg_11')\n",
    "df.pop('TCTemps_C_Avg_12')"
   ]
  },
  {
   "cell_type": "code",
   "execution_count": null,
   "metadata": {},
   "outputs": [],
   "source": [
    "df.replace({'-05:00': ' '}, regex=True)"
   ]
  },
  {
   "cell_type": "code",
   "execution_count": null,
   "metadata": {
    "id": "7Y7K1fEo2N-k"
   },
   "outputs": [],
   "source": [
    "date_time= pd.to_datetime(df['TIMESTAMP'],format='%Y-%m-%d %H:%M')"
   ]
  },
  {
   "cell_type": "code",
   "execution_count": null,
   "metadata": {
    "id": "bPiL-uQV2Pst"
   },
   "outputs": [],
   "source": [
    "import datetime\n",
    "timestamp_s = date_time.map(datetime.datetime.timestamp)"
   ]
  },
  {
   "cell_type": "code",
   "execution_count": null,
   "metadata": {
    "id": "O1bXsBiQ3pab"
   },
   "outputs": [],
   "source": [
    "import numpy as np"
   ]
  },
  {
   "cell_type": "code",
   "execution_count": null,
   "metadata": {
    "id": "7vvtg15b2TpS"
   },
   "outputs": [],
   "source": [
    "day = 24*60*60\n",
    "year = (365.2425)*day\n",
    "\n",
    "df['Day sin'] = np.sin(timestamp_s * (2 * np.pi / day))\n",
    "df['Day cos'] = np.cos(timestamp_s * (2 * np.pi / day))\n",
    "df['Year sin'] = np.sin(timestamp_s * (2 * np.pi / year))\n",
    "df['Year cos'] = np.cos(timestamp_s * (2 * np.pi / year))\n"
   ]
  },
  {
   "cell_type": "code",
   "execution_count": null,
   "metadata": {
    "id": "2PoS5DOl42SA"
   },
   "outputs": [],
   "source": [
    "threshold = 0.05 \n",
    "value_counts = df['Day sin'].value_counts() # Specific column \n",
    "to_remove = value_counts[ abs(value_counts) <= threshold].index\n",
    "df['Day sin'].replace(to_remove, 0, inplace=True)"
   ]
  },
  {
   "cell_type": "code",
   "execution_count": null,
   "metadata": {
    "colab": {
     "base_uri": "https://localhost:8080/"
    },
    "id": "sYiAx-3S5V0V",
    "outputId": "8e10aa30-d68e-4c01-b3f9-016543d2f278"
   },
   "outputs": [],
   "source": [
    "df['Day sin']"
   ]
  },
  {
   "cell_type": "code",
   "execution_count": null,
   "metadata": {
    "id": "gD9_dwMkIXlt"
   },
   "outputs": [],
   "source": [
    "df.head()"
   ]
  },
  {
   "cell_type": "code",
   "execution_count": null,
   "metadata": {
    "id": "nYqyyH4C3V7M"
   },
   "outputs": [],
   "source": [
    "import matplotlib.pyplot as plt"
   ]
  },
  {
   "cell_type": "code",
   "execution_count": null,
   "metadata": {
    "colab": {
     "base_uri": "https://localhost:8080/",
     "height": 312
    },
    "id": "KpnQfep_3XR9",
    "outputId": "8ef96314-6204-48be-8210-2826dd0861f2"
   },
   "outputs": [],
   "source": [
    "plt.plot(np.array(df['Day sin'])[:1440],label='Day sin')\n",
    "plt.plot(np.array(df['Day cos'])[:1440],label='Day cosine')\n",
    "plt.xlabel('Time [min]')\n",
    "plt.title('Time of day signal')"
   ]
  },
  {
   "cell_type": "code",
   "execution_count": null,
   "metadata": {},
   "outputs": [],
   "source": [
    "plt.plot(np.array(df['Year sin'])[:],label='Day sin')\n",
    "plt.plot(np.array(df['Year cos'])[:],label='Day cosine')\n",
    "plt.xlabel('Time [min]')\n",
    "plt.title('Time of year signal')"
   ]
  },
  {
   "cell_type": "code",
   "execution_count": null,
   "metadata": {},
   "outputs": [],
   "source": [
    "df.pop('TIMESTAMP')"
   ]
  },
  {
   "cell_type": "code",
   "execution_count": null,
   "metadata": {
    "id": "AbOoLZD65FGk"
   },
   "outputs": [],
   "source": [
    "wv = df.pop('WindSpeedAve_ms')\n",
    "wd_rad = df.pop('WindDirAve_deg')*np.pi / 180\n",
    "df['Wx'] = wv*np.cos(wd_rad)\n",
    "df['Wy'] = wv*np.sin(wd_rad)"
   ]
  },
  {
   "cell_type": "code",
   "execution_count": null,
   "metadata": {},
   "outputs": [],
   "source": [
    "new_col_RTD = ((df['RTD_C_Avg_1']+df['RTD_C_Avg_2']+df['RTD_C_Avg_3']+df['RTD_C_Avg_4']+df['RTD_C_Avg_5']+df['RTD_C_Avg_6']+df['RTD_C_Avg_6'])/6).tolist()\n",
    "df.insert(loc=len(df.columns), column='RTD_avg', value=new_col_RTD)"
   ]
  },
  {
   "cell_type": "code",
   "execution_count": null,
   "metadata": {},
   "outputs": [],
   "source": [
    "df['Angle_degrees']=10"
   ]
  },
  {
   "cell_type": "code",
   "execution_count": null,
   "metadata": {},
   "outputs": [],
   "source": [
    "new_col_P = ((df['Pyra1_Wm2_Avg']+df['Pyra2_Wm2_Avg']+df['Pyra3_Wm2_Avg']+df['Pyra4_Wm2_Avg']+df['Pyra5_Wm2_Avg']+df['Pyra6_Wm2_Avg']+df['Pyra7_Wm2_Avg']+df['Pyra8_Wm2_Avg'])/8).tolist()\n",
    "df.insert(loc=len(df.columns), column='Pyra_Wm2_Avg', value=new_col_P)"
   ]
  },
  {
   "cell_type": "code",
   "execution_count": null,
   "metadata": {
    "id": "GeMvrnyvGpQT"
   },
   "outputs": [],
   "source": [
    "#new_col = (df.iloc[:,20]+df.iloc[:,22]+df.iloc[:,21]+df.iloc[:,23]).tolist()\n",
    "new_col = (df['ShuntPDC_kW_Avg_1']+df['ShuntPDC_kW_Avg_2']+df['ShuntPDC_kW_Avg_3']+df['ShuntPDC_kW_Avg_4']).tolist()\n",
    "df.insert(loc=len(df.columns), column='power generated', value=new_col)"
   ]
  },
  {
   "cell_type": "code",
   "execution_count": null,
   "metadata": {},
   "outputs": [],
   "source": [
    "c=df['ShuntEtot_kWh_Max_1']+ df['ShuntEtot_kWh_Max_2']+df['ShuntEtot_kWh_Max_3']+df['ShuntEtot_kWh_Max_4']\n",
    "df.insert(loc=len(df.columns), column='energy generated', value=c)"
   ]
  },
  {
   "cell_type": "markdown",
   "metadata": {
    "id": "nApyT7ayH64A"
   },
   "source": [
    "Remove individual columns of power generation"
   ]
  },
  {
   "cell_type": "code",
   "execution_count": null,
   "metadata": {
    "id": "zE39q9ROHsdZ"
   },
   "outputs": [],
   "source": [
    "df.pop('ShuntPDC_kW_Avg_1')\n",
    "df.pop('ShuntPDC_kW_Avg_2')\n",
    "df.pop('ShuntPDC_kW_Avg_3')\n",
    "df.pop('ShuntPDC_kW_Avg_4')\n",
    "df.pop('RTD_C_Avg_1')\n",
    "df.pop('RTD_C_Avg_2')\n",
    "df.pop('RTD_C_Avg_3')\n",
    "df.pop('RTD_C_Avg_4')\n",
    "df.pop('RTD_C_Avg_5')\n",
    "df.pop('RTD_C_Avg_6')\n",
    "df.pop('RTD_C_Avg_7')\n",
    "\n",
    "df.pop('Pyra3_Wm2_Avg')\n",
    "df.pop('Pyra1_Wm2_Avg')\n",
    "df.pop('Pyra2_Wm2_Avg')\n",
    "df.pop('Pyra4_Wm2_Avg')\n",
    "df.pop('Pyra5_Wm2_Avg')\n",
    "df.pop('Pyra6_Wm2_Avg')\n",
    "df.pop('Pyra7_Wm2_Avg')\n",
    "df.pop('Pyra8_Wm2_Avg')\n",
    "df.pop('ShuntEtot_kWh_Max_1')\n",
    "df.pop('ShuntEtot_kWh_Max_2')\n",
    "df.pop('ShuntEtot_kWh_Max_3')\n",
    "df.pop('ShuntEtot_kWh_Max_4')\n",
    "\n"
   ]
  },
  {
   "cell_type": "markdown",
   "metadata": {
    "id": "br4SAo4-H_1M"
   },
   "source": [
    "Impute data"
   ]
  },
  {
   "cell_type": "code",
   "execution_count": null,
   "metadata": {},
   "outputs": [],
   "source": [
    "idf=df"
   ]
  },
  {
   "cell_type": "code",
   "execution_count": null,
   "metadata": {
    "id": "lpKmiaEtGYQ9"
   },
   "outputs": [],
   "source": [
    "from sklearn.impute import SimpleImputer\n",
    "imputer = SimpleImputer( strategy = 'mean')\n",
    "imputer = imputer.fit(idf.iloc[:, :])\n",
    "idf.iloc[:, :] = imputer.transform(idf.iloc[:, :])\n",
    "#df=pd.DataFrame(imp.fit_transform(df.iloc[:,:].values.reshape(-1,1)))"
   ]
  },
  {
   "cell_type": "code",
   "execution_count": null,
   "metadata": {},
   "outputs": [],
   "source": [
    "a=df['RefCell1_Wm2_Avg']\n",
    "df['RefCell1_Wm2_Avg']=a+df['RefCell2_Wm2_Avg']+df['RefCell3_Wm2_Avg']"
   ]
  },
  {
   "cell_type": "markdown",
   "metadata": {
    "id": "0gvsd1-ZHh9T"
   },
   "source": [
    "Save to csv\n"
   ]
  },
  {
   "cell_type": "code",
   "execution_count": null,
   "metadata": {
    "id": "4dd_nC5OHbKu"
   },
   "outputs": [],
   "source": [
    "df.pop('RefCell2_Wm2_Avg')\n",
    "df.pop('RefCell3_Wm2_Avg')"
   ]
  },
  {
   "cell_type": "code",
   "execution_count": null,
   "metadata": {
    "id": "PGFaxkx4HlUb"
   },
   "outputs": [],
   "source": [
    "df.pop('filename')"
   ]
  },
  {
   "cell_type": "code",
   "execution_count": null,
   "metadata": {},
   "outputs": [],
   "source": [
    "df.to_csv('rooffinal.csv',index=False)"
   ]
  }
 ],
 "metadata": {
  "colab": {
   "name": "data/time modification",
   "provenance": []
  },
  "kernelspec": {
   "display_name": "Python 3",
   "language": "python",
   "name": "python3"
  },
  "language_info": {
   "codemirror_mode": {
    "name": "ipython",
    "version": 3
   },
   "file_extension": ".py",
   "mimetype": "text/x-python",
   "name": "python",
   "nbconvert_exporter": "python",
   "pygments_lexer": "ipython3",
   "version": "3.6.6"
  }
 },
 "nbformat": 4,
 "nbformat_minor": 1
}
