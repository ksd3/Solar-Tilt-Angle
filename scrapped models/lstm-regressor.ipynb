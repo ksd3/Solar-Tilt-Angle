{
 "cells": [
  {
   "cell_type": "code",
   "execution_count": null,
   "metadata": {
    "id": "DYsROV6x88Uu"
   },
   "outputs": [],
   "source": [
    "import numpy as np\n",
    "import matplotlib.pyplot as plt\n",
    "import pandas as pd\n",
    "from keras.models import Sequential\n",
    "from keras.layers import Dense\n",
    "from keras.layers import LSTM\n",
    "from keras.layers import Dropout\n",
    "from sklearn.impute import KNNImputer"
   ]
  },
  {
   "cell_type": "code",
   "execution_count": null,
   "metadata": {
    "id": "RsMlMfPiuwdD"
   },
   "outputs": [],
   "source": [
    "vc1 = pd.read_csv('../input/solar-generation-miniproject/canopyfinal.csv', error_bad_lines=False)\n",
    "vc2 = pd.read_csv('../input/solar-generation-miniproject/groundfinal.csv', error_bad_lines=False)\n",
    "vc3 = pd.read_csv('../input/solar-generation-miniproject/rooffinal.csv', error_bad_lines=False)\n",
    "vc3['RefCell1_Wm2_Avg']=vc3['RefCell1_Wm2_Avg']/3\n",
    "vc1['RefCell1_Wm2_Avg']=vc1['RefCell1_Wm2_Avg']/2\n"
   ]
  },
  {
   "cell_type": "code",
   "execution_count": null,
   "metadata": {
    "id": "YRGNEUKTyGZR"
   },
   "outputs": [],
   "source": [
    "vtnt=pd.concat([vc1,vc2,vc3],axis=0)"
   ]
  },
  {
   "cell_type": "code",
   "execution_count": null,
   "metadata": {
    "id": "wtytfyYwv5Kl"
   },
   "outputs": [],
   "source": [
    "btnt=vtnt.dropna()"
   ]
  },
  {
   "cell_type": "code",
   "execution_count": null,
   "metadata": {},
   "outputs": [],
   "source": [
    "vtnt"
   ]
  },
  {
   "cell_type": "code",
   "execution_count": null,
   "metadata": {
    "id": "URSykvh3Am6i"
   },
   "outputs": [],
   "source": [
    "X = btnt.iloc[:, 0:-2]\n",
    "y = btnt.iloc[:, -1]\n",
    "X = X.values\n",
    "y = y.values\n",
    "\n"
   ]
  },
  {
   "cell_type": "code",
   "execution_count": null,
   "metadata": {
    "id": "Dkw0kbz8GYH5",
    "outputId": "a4809880-4519-4a31-bc7f-bfc614272890"
   },
   "outputs": [],
   "source": [
    "y"
   ]
  },
  {
   "cell_type": "code",
   "execution_count": null,
   "metadata": {
    "id": "XtVmXk0QC6FL"
   },
   "outputs": [],
   "source": [
    "\n",
    "from sklearn.model_selection import train_test_split\n",
    "X_train, X_test, y_train, y_test = train_test_split(X, y, test_size=0.20)"
   ]
  },
  {
   "cell_type": "code",
   "execution_count": null,
   "metadata": {
    "id": "wPsAkDg-7V1F"
   },
   "outputs": [],
   "source": [
    "from keras.callbacks import ModelCheckpoint"
   ]
  },
  {
   "cell_type": "code",
   "execution_count": null,
   "metadata": {
    "id": "0TSBu_3a8w9R",
    "outputId": "f1e0e844-e405-4ebc-ddb0-fe45eac6e099"
   },
   "outputs": [],
   "source": [
    "X_train = np.reshape(X_train, (X_train.shape[0], X_train.shape[1], 1))\n",
    "X_test=np.reshape(X_test, (X_test.shape[0], X_test.shape[1], 1))\n",
    "\n",
    "\n",
    "\n",
    "regressor = Sequential()\n",
    "\n",
    "regressor.add(LSTM(units = 50, return_sequences = True, input_shape = (X_train.shape[1], 1)))\n",
    "regressor.add(Dropout(0.2))\n",
    "\n",
    "regressor.add(LSTM(units = 50, return_sequences = True))\n",
    "regressor.add(Dropout(0.2))\n",
    "\n",
    "regressor.add(LSTM(units = 50, return_sequences = True))\n",
    "regressor.add(Dropout(0.2))\n",
    "\n",
    "regressor.add(LSTM(units = 50))\n",
    "regressor.add(Dropout(0.2))\n",
    "regressor.add(Dense(units = 1))\n",
    "\n",
    "regressor.compile(optimizer = 'adam', loss = 'mean_absolute_error')\n",
    "#filepath=\"weights.best.hdf5\"\n",
    "filepath=\"weights-improvement-{epoch:02d}.hdf5\"\n",
    "checkpoint=ModelCheckpoint(filepath, monitor='val_loss', verbose=0, save_best_only=False, save_weights_only=False, mode='auto', period=1)\n",
    "#checkpoint = ModelCheckpoint(filepath, verbose=1, save_best_only=True, mode='max')\n",
    "callbacks_list = [checkpoint]\n",
    "\n",
    "regressor.fit(X_train, y_train,validation_split=0.1, epochs = 15, batch_size = 32,callbacks=callbacks_list)\n"
   ]
  },
  {
   "cell_type": "code",
   "execution_count": null,
   "metadata": {
    "id": "FUq4zLEH9jn4"
   },
   "outputs": [],
   "source": [
    "\n",
    "pred = regressor.predict(X_test)\n",
    "\n"
   ]
  },
  {
   "cell_type": "code",
   "execution_count": null,
   "metadata": {},
   "outputs": [],
   "source": [
    "from sklearn.externals import joblib\n",
    "joblib_file = \"./joblib_RL_Model.pkl\"  \n",
    "joblib.dump(regressor, joblib_file)"
   ]
  },
  {
   "cell_type": "code",
   "execution_count": null,
   "metadata": {
    "id": "0cXzSxJ26asn",
    "outputId": "635b607e-6da0-4973-b807-d8787d166fd9"
   },
   "outputs": [],
   "source": [
    "pred"
   ]
  },
  {
   "cell_type": "code",
   "execution_count": null,
   "metadata": {
    "id": "sXcCigAJ6eGs",
    "outputId": "731b65fe-39ca-49c1-bdb4-4be7e1197b5c"
   },
   "outputs": [],
   "source": [
    "np.sum(y_test, dtype = np.float32)"
   ]
  },
  {
   "cell_type": "code",
   "execution_count": null,
   "metadata": {
    "id": "10cQLc5j6m-C",
    "outputId": "fc0e7738-0276-480f-8160-d22acb3c0754"
   },
   "outputs": [],
   "source": [
    "np.sum(pred, dtype = np.float32)"
   ]
  },
  {
   "cell_type": "code",
   "execution_count": null,
   "metadata": {
    "id": "ppNaAS-g6sjP"
   },
   "outputs": [],
   "source": []
  }
 ],
 "metadata": {
  "kernelspec": {
   "display_name": "Python 3",
   "language": "python",
   "name": "python3"
  },
  "language_info": {
   "codemirror_mode": {
    "name": "ipython",
    "version": 3
   },
   "file_extension": ".py",
   "mimetype": "text/x-python",
   "name": "python",
   "nbconvert_exporter": "python",
   "pygments_lexer": "ipython3",
   "version": "3.6.6"
  }
 },
 "nbformat": 4,
 "nbformat_minor": 4
}
