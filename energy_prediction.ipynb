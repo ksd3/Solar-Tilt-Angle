{
 "cells": [
  {
   "cell_type": "code",
   "execution_count": null,
   "id": "869b4787",
   "metadata": {},
   "outputs": [],
   "source": [
    "import pandas as pd\n",
    "import pickle\n",
    "import numpy as np"
   ]
  },
  {
   "cell_type": "code",
   "execution_count": null,
   "id": "8f5616dc",
   "metadata": {},
   "outputs": [],
   "source": [
    "df=pd.read_csv('test final/ground_2017.csv')\n",
    "df.pop('WindSpeedAve_ms')\n",
    "#df.pop('WindRef_V_Min')"
   ]
  },
  {
   "cell_type": "code",
   "execution_count": null,
   "id": "480acbbc",
   "metadata": {
    "scrolled": true
   },
   "outputs": [],
   "source": [
    "loaded_model = pickle.load(open(\"pima.pickle.dat\", \"rb\"))"
   ]
  },
  {
   "cell_type": "code",
   "execution_count": null,
   "id": "c3b95269",
   "metadata": {},
   "outputs": [],
   "source": [
    "energy=0\n",
    "for i in df.iloc[:,-1]:\n",
    "    energy+=i/60"
   ]
  },
  {
   "cell_type": "code",
   "execution_count": null,
   "id": "3be954fe",
   "metadata": {
    "scrolled": true
   },
   "outputs": [],
   "source": [
    "y=df.iloc[:,:-1]\n",
    "y=y.values\n",
    "x=df.iloc[:,-1].values"
   ]
  },
  {
   "cell_type": "code",
   "execution_count": null,
   "id": "b01335ed",
   "metadata": {},
   "outputs": [],
   "source": [
    "a=np.sum(x, dtype = np.float32)"
   ]
  },
  {
   "cell_type": "code",
   "execution_count": null,
   "id": "d5dcab56",
   "metadata": {},
   "outputs": [],
   "source": [
    "for i in range(5,40):\n",
    "    y[:,-2]=i\n",
    "    y_pred = loaded_model.predict(y)\n",
    "    sum=np.sum(y_pred, dtype = np.float32)\n",
    "    \n",
    "    if sum>a:\n",
    "        a=sum\n",
    "        angle=i\n",
    "        print(a)\n",
    "        print(i)"
   ]
  },
  {
   "cell_type": "code",
   "execution_count": null,
   "id": "179ca8a7",
   "metadata": {},
   "outputs": [],
   "source": [
    "y_pred=loaded_model.predict(y)\n",
    "energy_pred=0"
   ]
  },
  {
   "cell_type": "code",
   "execution_count": null,
   "id": "a5e6b0b7",
   "metadata": {},
   "outputs": [],
   "source": [
    "for i in y_pred:\n",
    "    energy_pred+=i/60"
   ]
  }
 ],
 "metadata": {
  "kernelspec": {
   "display_name": "Python 3",
   "language": "python",
   "name": "python3"
  },
  "language_info": {
   "codemirror_mode": {
    "name": "ipython",
    "version": 3
   },
   "file_extension": ".py",
   "mimetype": "text/x-python",
   "name": "python",
   "nbconvert_exporter": "python",
   "pygments_lexer": "ipython3",
   "version": "3.6.6"
  }
 },
 "nbformat": 4,
 "nbformat_minor": 5
}
